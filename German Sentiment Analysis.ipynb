{
 "cells": [
  {
   "cell_type": "code",
   "execution_count": 1,
   "metadata": {},
   "outputs": [],
   "source": [
    "#filename = 'trainingsdata/training_gesamt_extended_cutted_shuffled_cleaned.csv'\n",
    "filename = 'trainingsdata/training_gesamt_extended_cutted_shuffled.csv'\n",
    "punctuation = True\n",
    "is_stopwords = True\n",
    "is_stemming = False"
   ]
  },
  {
   "cell_type": "code",
   "execution_count": 2,
   "metadata": {},
   "outputs": [],
   "source": [
    "import numpy as np\n",
    "import re\n",
    "from nltk.corpus import stopwords\n",
    "import csv\n",
    "\n",
    "\n",
    "# The `stop` is defined as earlier in this chapter\n",
    "# Added it here for convenience, so that this section\n",
    "# can be run as standalone without executing prior code\n",
    "# in the directory\n",
    "stop = stopwords.words('german')\n",
    "\n",
    "\n",
    "def tokenizer(text):\n",
    "    if(punctuation):\n",
    "        text = re.sub('<[^>]*>', '', text)\n",
    "        emoticons = re.findall('(?::|;|=)(?:-)?(?:\\)|\\(|D|P)', text.lower())\n",
    "        text = re.sub('[\\W]+', ' ', text.lower()) +\\\n",
    "            ' '.join(emoticons).replace('-', '')\n",
    "    if(is_stopwords):\n",
    "        tokenized = [w for w in text.split() if w not in stop]\n",
    "    else:\n",
    "        tokenized = [w for w in text.split()]\n",
    "    return tokenized\n",
    "         "
   ]
  },
  {
   "cell_type": "code",
   "execution_count": 3,
   "metadata": {},
   "outputs": [],
   "source": [
    "import numpy as np\n",
    "import pandas as pd\n",
    "\n",
    "def shuffle(path, rename):\n",
    "    df = pd.read_csv(path, header=0, delimiter=\";\")\n",
    "    frame = df.reindex(np.random.permutation(df.index))\n",
    "    if rename == 1:\n",
    "        name = path[:path.rindex('.')]\n",
    "        extension = path[path.rindex('.'):]\n",
    "        newPath = name + \"_shuffled\" + extension\n",
    "        print(path, '=>', newPath)\n",
    "        frame.to_csv(newPath, sep=';', index=False, header=False)\n",
    "    else:\n",
    "        frame.to_csv(path, sep=';', index=False, header=False)\n",
    "        \n",
    "#shuffle(path='trainingsdata/training_gesamt_extended_cutted.csv', rename=1)"
   ]
  },
  {
   "cell_type": "code",
   "execution_count": 4,
   "metadata": {},
   "outputs": [],
   "source": [
    "from nltk.stem import SnowballStemmer \n",
    "\n",
    "def stem_sentence(sentence, algorithm):\n",
    "    words = tokenizer(sentence)\n",
    "    \n",
    "    # print(\"\\nSnowballStemmer (Porter vs. German):\")\n",
    "    stemming = SnowballStemmer(algorithm)\n",
    "    \n",
    "    # for w in words: \n",
    "        # print(\" => \", w, \":\", sPorter.stem(w), \"|\", sGerman.stem(w))\n",
    "        \n",
    "    newWords = map(lambda w: stemming.stem(w), words) \n",
    "        \n",
    "    # i = 0\n",
    "    # for w in words:\n",
    "    #     words[i] = stemming.stem(w)\n",
    "    #     i+=1\n",
    "    # return ' '.join(words)\n",
    "    \n",
    "    return ' '.join(newWords)"
   ]
  },
  {
   "cell_type": "code",
   "execution_count": 5,
   "metadata": {},
   "outputs": [],
   "source": [
    "def stream_docs(path):\n",
    "    #with open(path, 'rb') as csvfile:\n",
    "   #     csv_reader = csv.reader(csvfile, delimiter=';', quotechar='\\'')\n",
    "   #     for line in csv_reader:\n",
    "    #        text, label = line[:-3], int(line[-2])\n",
    "    #        yield text, label     \n",
    "    \n",
    "    with open(path, 'r', encoding='utf-8') as csv:\n",
    "        #next(csv)  # skip header\n",
    "        for line in csv:\n",
    "            #print(line)\n",
    "            text, label = line[:-3], int(line[-2])\n",
    "            if(is_stemming):\n",
    "                text = stem_sentence(text, 'german')\n",
    "            yield text, label   "
   ]
  },
  {
   "cell_type": "code",
   "execution_count": 6,
   "metadata": {},
   "outputs": [
    {
     "data": {
      "text/plain": [
       "('ch hasse sarah Connor, aba dieses eine Lied (Music is the Key oda so) is eig. ganz gut hörbar... liegt aba sicha net an sarah, sondern an naturally 7',\n",
       " 0)"
      ]
     },
     "execution_count": 6,
     "metadata": {},
     "output_type": "execute_result"
    }
   ],
   "source": [
    "next(stream_docs(path=filename))"
   ]
  },
  {
   "cell_type": "code",
   "execution_count": 7,
   "metadata": {},
   "outputs": [],
   "source": [
    "def get_minibatch(doc_stream, size, i):\n",
    "    docs, y = [], []\n",
    "    try:\n",
    "        for j in range(size):\n",
    "            #print(i * size + j)\n",
    "            text, label = next(doc_stream)\n",
    "            docs.append(text)\n",
    "            y.append(label)\n",
    "    except StopIteration:\n",
    "        return None, None\n",
    "    return docs, y"
   ]
  },
  {
   "cell_type": "code",
   "execution_count": 8,
   "metadata": {},
   "outputs": [],
   "source": [
    "from sklearn.feature_extraction.text import HashingVectorizer\n",
    "from sklearn.linear_model import SGDClassifier\n",
    "\n",
    "\n",
    "vect = HashingVectorizer(decode_error='ignore', \n",
    "                         n_features=2**21,\n",
    "                         preprocessor=None, \n",
    "                         tokenizer=tokenizer)"
   ]
  },
  {
   "cell_type": "code",
   "execution_count": 9,
   "metadata": {},
   "outputs": [],
   "source": [
    "from distutils.version import LooseVersion as Version\n",
    "from sklearn import __version__ as sklearn_version\n",
    "\n",
    "if Version(sklearn_version) < '0.18':\n",
    "    clf = SGDClassifier(loss='log', random_state=5, n_iter=1)\n",
    "else:\n",
    "    clf = SGDClassifier(loss='log', random_state=5, max_iter=1)\n",
    "\n",
    "doc_stream = stream_docs(path=filename)"
   ]
  },
  {
   "cell_type": "code",
   "execution_count": 10,
   "metadata": {},
   "outputs": [
    {
     "name": "stderr",
     "output_type": "stream",
     "text": [
      "C:\\Users\\Matthias\\Anaconda3\\lib\\site-packages\\sklearn\\linear_model\\stochastic_gradient.py:183: FutureWarning: max_iter and tol parameters have been added in SGDClassifier in 0.19. If max_iter is set but tol is left unset, the default value for tol in 0.19 and 0.20 will be None (which is equivalent to -infinity, so it has no effect) but will change in 0.21 to 1e-3. Specify tol to silence this warning.\n",
      "  FutureWarning)\n",
      "0% [##############################] 100% | ETA: 00:00:00\n",
      "Total time elapsed: 00:00:00\n"
     ]
    }
   ],
   "source": [
    "#Only needed for progressbar\n",
    "import pyprind\n",
    "pbar = pyprind.ProgBar(35) #35\n",
    "\n",
    "classes = np.array([0, 1])\n",
    "for i in range(35):\n",
    "    X_train, y_train = get_minibatch(doc_stream, size=100, i = i)\n",
    "    if not X_train:\n",
    "        break\n",
    "    X_train = vect.transform(X_train)\n",
    "    clf.partial_fit(X_train, y_train, classes=classes)\n",
    "    pbar.update()"
   ]
  },
  {
   "cell_type": "code",
   "execution_count": 11,
   "metadata": {},
   "outputs": [
    {
     "name": "stdout",
     "output_type": "stream",
     "text": [
      "Accuracy: 0.838\n"
     ]
    }
   ],
   "source": [
    "X_test, y_test = get_minibatch(doc_stream, size=500, i = 0) #900\n",
    "X_test = vect.transform(X_test)\n",
    "print('Accuracy: %.3f' % clf.score(X_test, y_test))"
   ]
  },
  {
   "cell_type": "code",
   "execution_count": 12,
   "metadata": {},
   "outputs": [],
   "source": [
    "clf = clf.partial_fit(X_test, y_test)"
   ]
  },
  {
   "cell_type": "code",
   "execution_count": 13,
   "metadata": {},
   "outputs": [
    {
     "name": "stdout",
     "output_type": "stream",
     "text": [
      "Accuracy: 0.593\n"
     ]
    }
   ],
   "source": [
    "doc_stream = stream_docs(path='trainingsdata/german_validation.csv')\n",
    "\n",
    "X_val, y_val = get_minibatch(doc_stream, size=27, i = 0)\n",
    "X_val = vect.transform(X_val)\n",
    "print('Accuracy: %.3f' % clf.score(X_val, y_val))"
   ]
  },
  {
   "cell_type": "code",
   "execution_count": 14,
   "metadata": {},
   "outputs": [
    {
     "name": "stdout",
     "output_type": "stream",
     "text": [
      "1\n",
      "0\n",
      "0\n",
      "0\n",
      "0\n",
      "1\n",
      "0\n",
      "0\n",
      "1\n",
      "0\n",
      "1\n",
      "1\n",
      "0\n",
      "1\n",
      "0\n",
      "0\n",
      "0\n",
      "1\n",
      "1\n",
      "0\n",
      "1\n",
      "1\n",
      "0\n",
      "1\n",
      "0\n",
      "0\n",
      "0\n"
     ]
    }
   ],
   "source": [
    "predictions = clf.predict(X_val)\n",
    "for p in predictions:\n",
    "    print(p)"
   ]
  },
  {
   "cell_type": "code",
   "execution_count": null,
   "metadata": {},
   "outputs": [],
   "source": []
  },
  {
   "cell_type": "code",
   "execution_count": null,
   "metadata": {},
   "outputs": [],
   "source": []
  }
 ],
 "metadata": {
  "kernelspec": {
   "display_name": "Python 3",
   "language": "python",
   "name": "python3"
  },
  "language_info": {
   "codemirror_mode": {
    "name": "ipython",
    "version": 3
   },
   "file_extension": ".py",
   "mimetype": "text/x-python",
   "name": "python",
   "nbconvert_exporter": "python",
   "pygments_lexer": "ipython3",
   "version": "3.7.3"
  }
 },
 "nbformat": 4,
 "nbformat_minor": 2
}
